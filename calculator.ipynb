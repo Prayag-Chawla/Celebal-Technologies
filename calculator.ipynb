{
 "cells": [
  {
   "cell_type": "code",
   "execution_count": 2,
   "metadata": {},
   "outputs": [
    {
     "name": "stdout",
     "output_type": "stream",
     "text": [
      "Please select operation -\n",
      "1. Add\n",
      "2. Subtract\n",
      "3. Multiply\n",
      "4. Divide\n",
      "\n",
      "5 * 7 = 35\n"
     ]
    }
   ],
   "source": [
    "def add(num1, num2):\n",
    "    return num1 + num2\n",
    "\n",
    "def subtract(num1, num2):\n",
    "    return num1 - num2\n",
    " \n",
    "\n",
    "def multiply(num1, num2):\n",
    "    return num1 * num2\n",
    " \n",
    "\n",
    "def divide(num1, num2):\n",
    "    return num1 / num2\n",
    " \n",
    "print(\"Please select operation -\\n\" \\\n",
    "        \"1. Add\\n\" \\\n",
    "        \"2. Subtract\\n\" \\\n",
    "        \"3. Multiply\\n\" \\\n",
    "        \"4. Divide\\n\")\n",
    " \n",
    "\n",
    "select = int(input(\"Select operations form 1, 2, 3, 4 :\"))\n",
    " \n",
    "number_1 = int(input(\"Enter first number: \"))\n",
    "number_2 = int(input(\"Enter second number: \"))\n",
    " \n",
    "if select == 1:\n",
    "    print(number_1, \"+\", number_2, \"=\",\n",
    "                    add(number_1, number_2))\n",
    " \n",
    "elif select == 2:\n",
    "    print(number_1, \"-\", number_2, \"=\",\n",
    "                    subtract(number_1, number_2))\n",
    " \n",
    "elif select == 3:\n",
    "    print(number_1, \"*\", number_2, \"=\",\n",
    "                    multiply(number_1, number_2))\n",
    " \n",
    "elif select == 4:\n",
    "    print(number_1, \"/\", number_2, \"=\",\n",
    "                    divide(number_1, number_2))\n",
    "else:\n",
    "    print(\"Invalid input\")"
   ]
  }
 ],
 "metadata": {
  "kernelspec": {
   "display_name": "Python 3",
   "language": "python",
   "name": "python3"
  },
  "language_info": {
   "codemirror_mode": {
    "name": "ipython",
    "version": 3
   },
   "file_extension": ".py",
   "mimetype": "text/x-python",
   "name": "python",
   "nbconvert_exporter": "python",
   "pygments_lexer": "ipython3",
   "version": "3.11.0"
  }
 },
 "nbformat": 4,
 "nbformat_minor": 2
}
